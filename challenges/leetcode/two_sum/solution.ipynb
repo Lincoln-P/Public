{
 "cells": [
  {
   "cell_type": "code",
   "execution_count": 36,
   "metadata": {},
   "outputs": [],
   "source": [
    "from typing import List\n",
    "\n",
    "class Solution:\n",
    "    # o(n^2) time complexity, o(n) space complexity\n",
    "    def twoSum(self, nums: List[int], target: int) -> List[int]:\n",
    "        for i in range(0,len(nums),1):\n",
    "            for j in range(i+1,len(nums),1):\n",
    "                if (nums[i] + nums[j]) == target:\n",
    "                    return [i,j]\n",
    "                \n",
    "    # o(n) time complexity, o(n) space complexity\n",
    "    def twoSumHash(self, nums: List[int], target: int) -> List[int]:\n",
    "        dict = {}\n",
    "        n = len(nums)\n",
    "\n",
    "        for i in range(n):\n",
    "            dict[nums[i]] = i\n",
    "        \n",
    "        for i in range(n):\n",
    "            complement = target - nums[i]\n",
    "            if complement in dict and dict[complement] != i:\n",
    "                return [i, dict[complement]]\n",
    "        \n",
    "        return []\n",
    "\n",
    "    "
   ]
  },
  {
   "cell_type": "code",
   "execution_count": 37,
   "metadata": {},
   "outputs": [],
   "source": [
    "s = Solution()\n",
    "\n",
    "# test case 1\n",
    "nums1 = [2,7,11,15]\n",
    "target1 = 9\n",
    "solution1 = [0,1]\n",
    "\n",
    "# test case 2\n",
    "nums2 = [3,2,4]\n",
    "target2 = 6\n",
    "solution2 = [1,2]\n",
    "\n",
    "# test case 3\n",
    "nums3 = [3,3]\n",
    "target3 = 6\n",
    "solution3 = [0,1]\n",
    "\n",
    "assert(s.twoSum(nums1, target1) == solution1)\n",
    "assert(s.twoSum(nums2, target2) == solution2)\n",
    "assert(s.twoSum(nums3, target3) == solution3)\n",
    "\n",
    "assert(s.twoSumHash(nums1, target1) == solution1)\n",
    "assert(s.twoSumHash(nums2, target2) == solution2)\n",
    "assert(s.twoSumHash(nums3, target3) == solution3)"
   ]
  },
  {
   "cell_type": "code",
   "execution_count": null,
   "metadata": {},
   "outputs": [],
   "source": []
  }
 ],
 "metadata": {
  "kernelspec": {
   "display_name": "Python 3",
   "language": "python",
   "name": "python3"
  },
  "language_info": {
   "codemirror_mode": {
    "name": "ipython",
    "version": 3
   },
   "file_extension": ".py",
   "mimetype": "text/x-python",
   "name": "python",
   "nbconvert_exporter": "python",
   "pygments_lexer": "ipython3",
   "version": "3.13.0"
  }
 },
 "nbformat": 4,
 "nbformat_minor": 2
}
